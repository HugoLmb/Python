{
 "cells": [
  {
   "cell_type": "code",
   "execution_count": 2,
   "metadata": {},
   "outputs": [],
   "source": [
    "#Un dataset\n",
    "\n",
    "#necessaire : \n",
    "#modèle - fonction de cout - gradients - descente de gradient"
   ]
  },
  {
   "cell_type": "code",
   "execution_count": 3,
   "metadata": {},
   "outputs": [],
   "source": [
    "import numpy as np\n",
    "from sklearn.datasets import make_regression\n",
    "import matplotlib.pyplot as plt"
   ]
  },
  {
   "cell_type": "markdown",
   "metadata": {},
   "source": [
    "# 1 - Dataset"
   ]
  },
  {
   "cell_type": "code",
   "execution_count": 4,
   "metadata": {},
   "outputs": [
    {
     "data": {
      "text/plain": [
       "<matplotlib.collections.PathCollection at 0x276a57846d0>"
      ]
     },
     "execution_count": 4,
     "metadata": {},
     "output_type": "execute_result"
    },
    {
     "data": {
      "image/png": "[encoded data removed]",
      "text/plain": [
       "<Figure size 432x288 with 1 Axes>"
      ]
     },
     "metadata": {
      "needs_background": "light"
     },
     "output_type": "display_data"
    }
   ],
   "source": [
    "#génère un dataset LINEAIRE depuis la librairie sklearn\n",
    "x, y = make_regression(n_samples=100, n_features = 1, noise = 10)\n",
    "# display du dataset : \n",
    "plt.scatter(x, y)"
   ]
  },
  {
   "cell_type": "code",
   "execution_count": 5,
   "metadata": {},
   "outputs": [
    {
     "name": "stdout",
     "output_type": "stream",
     "text": [
      "(100, 1)\n",
      "(100, 1)\n"
     ]
    }
   ],
   "source": [
    "print(x.shape)\n",
    "#par defaut les dimentions de y sont incomplètes \"(100, )\"\n",
    "y = y.reshape(y.shape[0], 1)\n",
    "print(y.shape)"
   ]
  },
  {
   "cell_type": "code",
   "execution_count": 8,
   "metadata": {},
   "outputs": [
    {
     "data": {
      "text/plain": [
       "array([[-1.55998693,  1.        ],\n",
       "       [ 0.00678423,  1.        ],\n",
       "       [ 1.13178669,  1.        ],\n",
       "       [ 0.06389781,  1.        ],\n",
       "       [-0.87539948,  1.        ],\n",
       "       [ 0.19357987,  1.        ],\n",
       "       [ 0.45402469,  1.        ],\n",
       "       [-1.36914791,  1.        ],\n",
       "       [-1.28262653,  1.        ],\n",
       "       [-0.45035565,  1.        ],\n",
       "       [-0.87875532,  1.        ],\n",
       "       [-0.58799601,  1.        ],\n",
       "       [-0.20987704,  1.        ],\n",
       "       [ 0.59046702,  1.        ],\n",
       "       [-0.75934149,  1.        ],\n",
       "       [-0.33936767,  1.        ],\n",
       "       [ 1.71090567,  1.        ],\n",
       "       [-0.4949634 ,  1.        ],\n",
       "       [-1.21446277,  1.        ],\n",
       "       [ 0.03283808,  1.        ],\n",
       "       [-0.24902867,  1.        ],\n",
       "       [ 0.43187121,  1.        ],\n",
       "       [ 0.68565026,  1.        ],\n",
       "       [-0.31855808,  1.        ],\n",
       "       [ 0.66722913,  1.        ],\n",
       "       [ 0.39124287,  1.        ],\n",
       "       [ 0.95406027,  1.        ],\n",
       "       [ 0.54342739,  1.        ],\n",
       "       [ 0.51354907,  1.        ],\n",
       "       [-0.0107111 ,  1.        ],\n",
       "       [-1.98493348,  1.        ],\n",
       "       [ 0.54624884,  1.        ],\n",
       "       [ 1.01477147,  1.        ],\n",
       "       [-1.26440667,  1.        ],\n",
       "       [-0.32771485,  1.        ],\n",
       "       [-0.81512304,  1.        ],\n",
       "       [-0.33192918,  1.        ],\n",
       "       [-2.23430093,  1.        ],\n",
       "       [ 0.97816642,  1.        ],\n",
       "       [-0.11761035,  1.        ],\n",
       "       [ 1.21766205,  1.        ],\n",
       "       [ 0.33146676,  1.        ],\n",
       "       [-0.54519684,  1.        ],\n",
       "       [ 1.39415049,  1.        ],\n",
       "       [-1.42719898,  1.        ],\n",
       "       [ 0.16022701,  1.        ],\n",
       "       [-0.5218615 ,  1.        ],\n",
       "       [-0.41794465,  1.        ],\n",
       "       [-1.08807561,  1.        ],\n",
       "       [-1.4003379 ,  1.        ],\n",
       "       [-0.78781209,  1.        ],\n",
       "       [ 0.4791297 ,  1.        ],\n",
       "       [-0.12939491,  1.        ],\n",
       "       [-0.39022297,  1.        ],\n",
       "       [-0.34690462,  1.        ],\n",
       "       [-0.65034871,  1.        ],\n",
       "       [ 0.86513248,  1.        ],\n",
       "       [ 0.03017255,  1.        ],\n",
       "       [-0.01370519,  1.        ],\n",
       "       [-1.14729337,  1.        ],\n",
       "       [ 1.94741456,  1.        ],\n",
       "       [ 0.26311993,  1.        ],\n",
       "       [-0.26196983,  1.        ],\n",
       "       [ 0.64916982,  1.        ],\n",
       "       [-0.69212983,  1.        ],\n",
       "       [ 0.34700557,  1.        ],\n",
       "       [ 0.38691856,  1.        ],\n",
       "       [ 0.87039964,  1.        ],\n",
       "       [ 0.34026543,  1.        ],\n",
       "       [-1.24175329,  1.        ],\n",
       "       [-1.90202991,  1.        ],\n",
       "       [ 1.01812963,  1.        ],\n",
       "       [-0.57011274,  1.        ],\n",
       "       [-0.00643515,  1.        ],\n",
       "       [-0.75879256,  1.        ],\n",
       "       [-0.33592919,  1.        ],\n",
       "       [-0.33203544,  1.        ],\n",
       "       [-0.78391678,  1.        ],\n",
       "       [ 1.23550172,  1.        ],\n",
       "       [-0.45669677,  1.        ],\n",
       "       [-0.03933728,  1.        ],\n",
       "       [-0.81777153,  1.        ],\n",
       "       [ 1.04424751,  1.        ],\n",
       "       [ 0.1727029 ,  1.        ],\n",
       "       [-0.19721006,  1.        ],\n",
       "       [-0.25300141,  1.        ],\n",
       "       [ 0.72540745,  1.        ],\n",
       "       [-0.21137261,  1.        ],\n",
       "       [-0.88809874,  1.        ],\n",
       "       [ 0.0189577 ,  1.        ],\n",
       "       [ 0.63917604,  1.        ],\n",
       "       [-1.25584699,  1.        ],\n",
       "       [ 1.21072408,  1.        ],\n",
       "       [-0.95629734,  1.        ],\n",
       "       [-1.22667338,  1.        ],\n",
       "       [-0.3745221 ,  1.        ],\n",
       "       [ 1.32416213,  1.        ],\n",
       "       [ 2.20632168,  1.        ],\n",
       "       [ 0.55268187,  1.        ],\n",
       "       [ 0.50080056,  1.        ]])"
      ]
     },
     "execution_count": 8,
     "metadata": {},
     "output_type": "execute_result"
    }
   ],
   "source": [
    "#matrice X\n",
    "#hstack permet de fusionner deux matrices, ones génére une matrice constitué de 1 de dimension comme paramètre\n",
    "X = np.hstack((x, np.ones(x.shape)))\n",
    "X.shape\n",
    "X"
   ]
  },
  {
   "cell_type": "code",
   "execution_count": 9,
   "metadata": {},
   "outputs": [
    {
     "data": {
      "text/plain": [
       "array([[-0.55806785],\n",
       "       [-0.97381121]])"
      ]
     },
     "execution_count": 9,
     "metadata": {},
     "output_type": "execute_result"
    }
   ],
   "source": [
    "theta = np.random.randn(2, 1)\n",
    "theta"
   ]
  },
  {
   "cell_type": "markdown",
   "metadata": {},
   "source": [
    "# 2 - Modèle"
   ]
  },
  {
   "cell_type": "code",
   "execution_count": 10,
   "metadata": {},
   "outputs": [],
   "source": [
    "#modèle linéaire donc notre fonction doit être de la forme X.theta ainsi elle doit simplement retourner le produit matricielle\n",
    "def model(X, theta):\n",
    "    return X.dot(theta) #permet de faire le produit matricielle de X par theta"
   ]
  },
  {
   "cell_type": "code",
   "execution_count": 11,
   "metadata": {},
   "outputs": [
    {
     "data": {
      "text/plain": [
       "[<matplotlib.lines.Line2D at 0x276a6855340>]"
      ]
     },
     "execution_count": 11,
     "metadata": {},
     "output_type": "execute_result"
    },
    {
     "data": {
      "image/png": "[encoded data removed]",
      "text/plain": [
       "<Figure size 432x288 with 1 Axes>"
      ]
     },
     "metadata": {
      "needs_background": "light"
     },
     "output_type": "display_data"
    }
   ],
   "source": [
    "#tester le modèle\n",
    "plt.scatter(x, y)\n",
    "plt.plot(x, model(X, theta))\n",
    "#courbe mauvaise"
   ]
  },
  {
   "cell_type": "markdown",
   "metadata": {},
   "source": [
    "# 3 - Fonction cout"
   ]
  },
  {
   "cell_type": "code",
   "execution_count": 9,
   "metadata": {},
   "outputs": [],
   "source": [
    "#Fonction cout est l'erreur quadratique moyenne : \"1/2m * sum(X.theta - y)**2\"\n",
    "#m designe le nb de pts dans le data set, m = len(y)\n",
    "def cost_function(X, y, theta):\n",
    "    m = len(y)\n",
    "    return 1/(2*m) * np.sum((model(X, theta) - y)**2)"
   ]
  },
  {
   "cell_type": "code",
   "execution_count": 10,
   "metadata": {},
   "outputs": [
    {
     "data": {
      "text/plain": [
       "3094.564053700635"
      ]
     },
     "execution_count": 10,
     "metadata": {},
     "output_type": "execute_result"
    }
   ],
   "source": [
    "cost_function(X, y, theta)"
   ]
  },
  {
   "cell_type": "markdown",
   "metadata": {},
   "source": [
    "# 4 - Gradient & Descente de Gradient"
   ]
  },
  {
   "cell_type": "code",
   "execution_count": 11,
   "metadata": {},
   "outputs": [],
   "source": [
    "def grad(X, y, theta):\n",
    "    m = len(y)\n",
    "    return 1/m * X.T.dot(model(X, theta) - y)"
   ]
  },
  {
   "cell_type": "code",
   "execution_count": 12,
   "metadata": {},
   "outputs": [],
   "source": [
    "def gradient_descente(X, y, theta, learning_rate, n_iterations):\n",
    "    \n",
    "    for i in range(0, n_iterations):\n",
    "        theta = theta - learning_rate * grad(X, y, theta)\n",
    "    return theta"
   ]
  },
  {
   "cell_type": "markdown",
   "metadata": {},
   "source": [
    "# 5 - Entrainement du modèle"
   ]
  },
  {
   "cell_type": "code",
   "execution_count": 13,
   "metadata": {},
   "outputs": [],
   "source": [
    "theta_final = gradient_descente(X, y, theta, learning_rate = 0.01, n_iterations = 1000)"
   ]
  },
  {
   "cell_type": "code",
   "execution_count": 14,
   "metadata": {},
   "outputs": [
    {
     "data": {
      "text/plain": [
       "array([[96.18150184],\n",
       "       [ 0.59305165]])"
      ]
     },
     "execution_count": 14,
     "metadata": {},
     "output_type": "execute_result"
    }
   ],
   "source": [
    "theta_final"
   ]
  },
  {
   "cell_type": "code",
   "execution_count": 15,
   "metadata": {},
   "outputs": [
    {
     "data": {
      "text/plain": [
       "[<matplotlib.lines.Line2D at 0x1e5f2698d60>]"
      ]
     },
     "execution_count": 15,
     "metadata": {},
     "output_type": "execute_result"
    },
    {
     "data": {
      "image/png": "[encoded data removed]",
      "text/plain": [
       "<Figure size 432x288 with 1 Axes>"
      ]
     },
     "metadata": {
      "needs_background": "light"
     },
     "output_type": "display_data"
    }
   ],
   "source": [
    "predictions = model(X, theta_final)\n",
    "plt.scatter(x, y)\n",
    "plt.plot(x, predictions, c='r')\n",
    "\n",
    "# BILAN : la courbe obtenue est desormais satisfaisante"
   ]
  },
  {
   "cell_type": "markdown",
   "metadata": {},
   "source": [
    "# 6 - Comment tracer la minimisation avec la fonction cout\n",
    "# La machine apprend elle bien ?"
   ]
  },
  {
   "cell_type": "code",
   "execution_count": 16,
   "metadata": {},
   "outputs": [],
   "source": [
    "def gradient_descente(X, y, theta, learning_rate, n_iterations):\n",
    "    cost_history = np.zeros(n_iterations)\n",
    "    \n",
    "    for i in range(0, n_iterations):\n",
    "        theta = theta - learning_rate * grad(X, y, theta)\n",
    "        cost_history[i] = cost_function(X, y, theta)\n",
    "    return theta, cost_history"
   ]
  },
  {
   "cell_type": "code",
   "execution_count": 17,
   "metadata": {},
   "outputs": [],
   "source": [
    "theta_final, cost_history = gradient_descente(X, y, theta, learning_rate = 0.01, n_iterations = 1000)"
   ]
  },
  {
   "cell_type": "code",
   "execution_count": 18,
   "metadata": {},
   "outputs": [
    {
     "data": {
      "text/plain": [
       "[<matplotlib.lines.Line2D at 0x1e5f36c3e20>]"
      ]
     },
     "execution_count": 18,
     "metadata": {},
     "output_type": "execute_result"
    },
    {
     "data": {
      "image/png": "[encoded data removed]",
      "text/plain": [
       "<Figure size 432x288 with 1 Axes>"
      ]
     },
     "metadata": {
      "needs_background": "light"
     },
     "output_type": "display_data"
    }
   ],
   "source": [
    "#Affiche l'évolution de la minimisation en fonction du nb d'itérations\n",
    "plt.plot(range(1000), cost_history)"
   ]
  },
  {
   "cell_type": "markdown",
   "metadata": {},
   "source": [
    "# 7 - Coefficient de determination | afficher les performance du modèle"
   ]
  },
  {
   "cell_type": "code",
   "execution_count": 19,
   "metadata": {},
   "outputs": [],
   "source": [
    "def coef_determination(y, pred):\n",
    "    u = ((y - pred)**2).sum()\n",
    "    v = ((y - y.mean())**2).sum()\n",
    "    return 1 - u/v"
   ]
  },
  {
   "cell_type": "code",
   "execution_count": 20,
   "metadata": {},
   "outputs": [
    {
     "data": {
      "text/plain": [
       "0.981420839045106"
      ]
     },
     "execution_count": 20,
     "metadata": {},
     "output_type": "execute_result"
    }
   ],
   "source": [
    "coef_determination(y, predictions)"
   ]
  },
  {
   "cell_type": "code",
   "execution_count": null,
   "metadata": {},
   "outputs": [],
   "source": []
  }
 ],
 "metadata": {
  "kernelspec": {
   "display_name": "Python 3",
   "language": "python",
   "name": "python3"
  },
  "language_info": {
   "codemirror_mode": {
    "name": "ipython",
    "version": 3
   },
   "file_extension": ".py",
   "mimetype": "text/x-python",
   "name": "python",
   "nbconvert_exporter": "python",
   "pygments_lexer": "ipython3",
   "version": "3.8.5"
  }
 },
 "nbformat": 4,
 "nbformat_minor": 4
}
