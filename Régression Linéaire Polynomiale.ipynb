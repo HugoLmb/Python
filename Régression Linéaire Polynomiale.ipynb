{
 "cells": [
  {
   "cell_type": "code",
   "execution_count": 1,
   "metadata": {},
   "outputs": [],
   "source": [
    "#Un dataset\n",
    "\n",
    "#necessaire : \n",
    "#modèle - fonction de cout - gradients - descente de gradient"
   ]
  },
  {
   "cell_type": "code",
   "execution_count": 2,
   "metadata": {},
   "outputs": [],
   "source": [
    "import numpy as np\n",
    "from sklearn.datasets import make_regression\n",
    "import matplotlib.pyplot as plt"
   ]
  },
  {
   "cell_type": "markdown",
   "metadata": {},
   "source": [
    "# 1 - Dataset"
   ]
  },
  {
   "cell_type": "code",
   "execution_count": 3,
   "metadata": {},
   "outputs": [
    {
     "data": {
      "text/plain": [
       "<matplotlib.collections.PathCollection at 0x25f0eacc790>"
      ]
     },
     "execution_count": 3,
     "metadata": {},
     "output_type": "execute_result"
    },
    {
     "data": {
      "image/png": "[encoded data removed]",
      "text/plain": [
       "<Figure size 432x288 with 1 Axes>"
      ]
     },
     "metadata": {
      "needs_background": "light"
     },
     "output_type": "display_data"
    }
   ],
   "source": [
    "#génère un dataset depuis la librairie sklearn\n",
    "x, y = make_regression(n_samples=100, n_features = 1, noise = 10)\n",
    "y = y + abs(y/2)\n",
    "\n",
    "# display du dataset : \n",
    "plt.scatter(x, y)"
   ]
  },
  {
   "cell_type": "code",
   "execution_count": 4,
   "metadata": {},
   "outputs": [
    {
     "name": "stdout",
     "output_type": "stream",
     "text": [
      "(100, 1)\n",
      "(100, 1)\n"
     ]
    }
   ],
   "source": [
    "print(x.shape)\n",
    "#par defaut les dimentions de y sont incomplètes \"(100, )\"\n",
    "y = y.reshape(y.shape[0], 1)\n",
    "print(y.shape)"
   ]
  },
  {
   "cell_type": "code",
   "execution_count": 5,
   "metadata": {},
   "outputs": [
    {
     "data": {
      "text/plain": [
       "array([[ 3.33700942e-01, -5.77668540e-01,  1.00000000e+00],\n",
       "       [ 4.53269439e-02, -2.12901254e-01,  1.00000000e+00],\n",
       "       [ 1.04097011e-01,  3.22640684e-01,  1.00000000e+00],\n",
       "       [ 6.62777573e-01, -8.14111524e-01,  1.00000000e+00],\n",
       "       [ 3.67317777e-01, -6.06067469e-01,  1.00000000e+00],\n",
       "       [ 7.01267141e-01, -8.37416946e-01,  1.00000000e+00],\n",
       "       [ 2.08229882e+00, -1.44301726e+00,  1.00000000e+00],\n",
       "       [ 1.16489096e-04, -1.07930114e-02,  1.00000000e+00],\n",
       "       [ 1.57987552e+00, -1.25693099e+00,  1.00000000e+00],\n",
       "       [ 2.85578333e+00, -1.68990631e+00,  1.00000000e+00],\n",
       "       [ 8.43337381e-01, -9.18334025e-01,  1.00000000e+00],\n",
       "       [ 1.71988844e-01,  4.14715377e-01,  1.00000000e+00],\n",
       "       [ 2.26714784e+00, -1.50570510e+00,  1.00000000e+00],\n",
       "       [ 8.44210043e-02, -2.90552929e-01,  1.00000000e+00],\n",
       "       [ 1.88287293e-03,  4.33920837e-02,  1.00000000e+00],\n",
       "       [ 8.54728057e-02, -2.92357325e-01,  1.00000000e+00],\n",
       "       [ 1.15956925e-03, -3.40524486e-02,  1.00000000e+00],\n",
       "       [ 7.82736717e-02,  2.79774323e-01,  1.00000000e+00],\n",
       "       [ 1.60789977e-01,  4.00986255e-01,  1.00000000e+00],\n",
       "       [ 1.56284611e-01,  3.95328485e-01,  1.00000000e+00],\n",
       "       [ 2.01989260e-01,  4.49432152e-01,  1.00000000e+00],\n",
       "       [ 8.66708589e-01, -9.30971852e-01,  1.00000000e+00],\n",
       "       [ 3.62603586e+00,  1.90421529e+00,  1.00000000e+00],\n",
       "       [ 6.09749819e-02, -2.46931128e-01,  1.00000000e+00],\n",
       "       [ 2.26422479e-02, -1.50473413e-01,  1.00000000e+00],\n",
       "       [ 8.35237789e-01, -9.13913447e-01,  1.00000000e+00],\n",
       "       [ 8.38401406e-01,  9.15642619e-01,  1.00000000e+00],\n",
       "       [ 8.52944273e-01, -9.23549822e-01,  1.00000000e+00],\n",
       "       [ 3.41821357e+00,  1.84884114e+00,  1.00000000e+00],\n",
       "       [ 9.14798636e-02,  3.02456383e-01,  1.00000000e+00],\n",
       "       [ 2.13974370e+00,  1.46278628e+00,  1.00000000e+00],\n",
       "       [ 4.08343772e-03,  6.39017818e-02,  1.00000000e+00],\n",
       "       [ 1.98976014e+00, -1.41058858e+00,  1.00000000e+00],\n",
       "       [ 1.76137004e+00,  1.32716617e+00,  1.00000000e+00],\n",
       "       [ 6.47314890e-01, -8.04558817e-01,  1.00000000e+00],\n",
       "       [ 1.46435222e-01, -3.82668553e-01,  1.00000000e+00],\n",
       "       [ 2.26339459e-02,  1.50445824e-01,  1.00000000e+00],\n",
       "       [ 9.85903608e-02,  3.13991020e-01,  1.00000000e+00],\n",
       "       [ 2.42152277e-01, -4.92089704e-01,  1.00000000e+00],\n",
       "       [ 5.70925443e-01,  7.55596085e-01,  1.00000000e+00],\n",
       "       [ 2.66709675e+00, -1.63312484e+00,  1.00000000e+00],\n",
       "       [ 2.45485214e-02, -1.56679678e-01,  1.00000000e+00],\n",
       "       [ 7.92980116e-01, -8.90494310e-01,  1.00000000e+00],\n",
       "       [ 4.57831821e+00, -2.13970049e+00,  1.00000000e+00],\n",
       "       [ 5.56662315e-02, -2.35936923e-01,  1.00000000e+00],\n",
       "       [ 5.70989882e-02, -2.38953946e-01,  1.00000000e+00],\n",
       "       [ 3.15043169e+00,  1.77494555e+00,  1.00000000e+00],\n",
       "       [ 3.46866189e-01, -5.88953469e-01,  1.00000000e+00],\n",
       "       [ 5.12276352e-01,  7.15734833e-01,  1.00000000e+00],\n",
       "       [ 2.92100361e-02, -1.70909438e-01,  1.00000000e+00],\n",
       "       [ 3.18978550e-02, -1.78599706e-01,  1.00000000e+00],\n",
       "       [ 5.08720089e-04,  2.25548241e-02,  1.00000000e+00],\n",
       "       [ 9.04314941e-07, -9.50954752e-04,  1.00000000e+00],\n",
       "       [ 3.37099979e-02,  1.83602827e-01,  1.00000000e+00],\n",
       "       [ 5.11403490e-01,  7.15124807e-01,  1.00000000e+00],\n",
       "       [ 7.86563247e-01,  8.86884010e-01,  1.00000000e+00],\n",
       "       [ 1.06987840e+00, -1.03434926e+00,  1.00000000e+00],\n",
       "       [ 3.27770883e-01, -5.72512780e-01,  1.00000000e+00],\n",
       "       [ 1.12139215e-01,  3.34871938e-01,  1.00000000e+00],\n",
       "       [ 1.96682366e-02, -1.40243491e-01,  1.00000000e+00],\n",
       "       [ 6.60476636e-01, -8.12697137e-01,  1.00000000e+00],\n",
       "       [ 1.62923269e-01,  4.03637546e-01,  1.00000000e+00],\n",
       "       [ 5.95667920e+00,  2.44063090e+00,  1.00000000e+00],\n",
       "       [ 1.07273743e+00, -1.03573039e+00,  1.00000000e+00],\n",
       "       [ 2.73397828e-01,  5.22874582e-01,  1.00000000e+00],\n",
       "       [ 8.47848191e-01, -9.20786724e-01,  1.00000000e+00],\n",
       "       [ 5.56828146e-02, -2.35972063e-01,  1.00000000e+00],\n",
       "       [ 3.30476085e-02,  1.81790012e-01,  1.00000000e+00],\n",
       "       [ 1.66063709e-01,  4.07509152e-01,  1.00000000e+00],\n",
       "       [ 2.44643763e-04,  1.56410921e-02,  1.00000000e+00],\n",
       "       [ 6.50818142e-02, -2.55111376e-01,  1.00000000e+00],\n",
       "       [ 1.24761261e-01, -3.53215601e-01,  1.00000000e+00],\n",
       "       [ 2.48754387e-01, -4.98752832e-01,  1.00000000e+00],\n",
       "       [ 6.02039912e-01,  7.75912309e-01,  1.00000000e+00],\n",
       "       [ 8.39602948e-02, -2.89759029e-01,  1.00000000e+00],\n",
       "       [ 1.66622109e+00, -1.29082187e+00,  1.00000000e+00],\n",
       "       [ 5.60594883e-01,  7.48728845e-01,  1.00000000e+00],\n",
       "       [ 5.10086883e-04, -2.25851031e-02,  1.00000000e+00],\n",
       "       [ 1.69026823e-01,  4.11128718e-01,  1.00000000e+00],\n",
       "       [ 4.12972613e-01,  6.42629452e-01,  1.00000000e+00],\n",
       "       [ 8.14221340e-01, -9.02342141e-01,  1.00000000e+00],\n",
       "       [ 2.30484249e+00,  1.51817077e+00,  1.00000000e+00],\n",
       "       [ 1.56436000e+00, -1.25074378e+00,  1.00000000e+00],\n",
       "       [ 1.04855408e+00,  1.02398930e+00,  1.00000000e+00],\n",
       "       [ 3.57732650e-01, -5.98107557e-01,  1.00000000e+00],\n",
       "       [ 8.76850981e-02,  2.96116697e-01,  1.00000000e+00],\n",
       "       [ 5.12277746e-01, -7.15735807e-01,  1.00000000e+00],\n",
       "       [ 1.66611136e+00, -1.29077936e+00,  1.00000000e+00],\n",
       "       [ 9.04849332e-03,  9.51235687e-02,  1.00000000e+00],\n",
       "       [ 4.86898975e-01, -6.97781467e-01,  1.00000000e+00],\n",
       "       [ 6.28410158e-01, -7.92723254e-01,  1.00000000e+00],\n",
       "       [ 8.94885886e+00, -2.99146433e+00,  1.00000000e+00],\n",
       "       [ 3.22078339e-01, -5.67519462e-01,  1.00000000e+00],\n",
       "       [ 1.82962573e+00,  1.35263659e+00,  1.00000000e+00],\n",
       "       [ 3.25089266e+00, -1.80302320e+00,  1.00000000e+00],\n",
       "       [ 1.32402642e+00,  1.15066347e+00,  1.00000000e+00],\n",
       "       [ 5.20878577e-03,  7.21719181e-02,  1.00000000e+00],\n",
       "       [ 1.81239532e+00,  1.34625232e+00,  1.00000000e+00],\n",
       "       [ 1.47177061e-02, -1.21316553e-01,  1.00000000e+00],\n",
       "       [ 5.22420008e-01, -7.22786281e-01,  1.00000000e+00]])"
      ]
     },
     "execution_count": 5,
     "metadata": {},
     "output_type": "execute_result"
    }
   ],
   "source": [
    "#matrice X\n",
    "#hstack permet de fusionner deux matrices, ones génére une matrice constitué de 1 de dimension comme paramètre\n",
    "X = np.hstack((x, np.ones(x.shape)))\n",
    "X = np.hstack((x**2, X))\n",
    "X.shape\n",
    "X"
   ]
  },
  {
   "cell_type": "code",
   "execution_count": 6,
   "metadata": {},
   "outputs": [
    {
     "data": {
      "text/plain": [
       "array([[-0.25942707],\n",
       "       [-0.4391879 ],\n",
       "       [ 0.16224192]])"
      ]
     },
     "execution_count": 6,
     "metadata": {},
     "output_type": "execute_result"
    }
   ],
   "source": [
    "theta = np.random.randn(3, 1)\n",
    "theta"
   ]
  },
  {
   "cell_type": "markdown",
   "metadata": {},
   "source": [
    "# 2 - Modèle"
   ]
  },
  {
   "cell_type": "code",
   "execution_count": 7,
   "metadata": {},
   "outputs": [],
   "source": [
    "#modèle linéaire donc notre fonction doit être de la forme X.theta ainsi elle doit simplement retourner le produit matricielle\n",
    "def model(X, theta):\n",
    "    return X.dot(theta) #permet de faire le produit matricielle de X par theta"
   ]
  },
  {
   "cell_type": "code",
   "execution_count": 8,
   "metadata": {},
   "outputs": [
    {
     "data": {
      "text/plain": [
       "[<matplotlib.lines.Line2D at 0x25f0ee1abb0>]"
      ]
     },
     "execution_count": 8,
     "metadata": {},
     "output_type": "execute_result"
    },
    {
     "data": {
      "image/png": "[encoded data removed]",
      "text/plain": [
       "<Figure size 432x288 with 1 Axes>"
      ]
     },
     "metadata": {
      "needs_background": "light"
     },
     "output_type": "display_data"
    }
   ],
   "source": [
    "#tester le modèle\n",
    "plt.scatter(x, y)\n",
    "plt.plot(x, model(X, theta))\n",
    "#courbe mauvaise"
   ]
  },
  {
   "cell_type": "markdown",
   "metadata": {},
   "source": [
    "# 3 - Fonction cout"
   ]
  },
  {
   "cell_type": "code",
   "execution_count": 9,
   "metadata": {},
   "outputs": [],
   "source": [
    "#Fonction cout est l'erreur quadratique moyenne : \"1/2m * sum(X.theta - y)**2\"\n",
    "#m designe le nb de pts dans le data set, m = len(y)\n",
    "def cost_function(X, y, theta):\n",
    "    m = len(y)\n",
    "    return 1/(2*m) * np.sum((model(X, theta) - y)**2)"
   ]
  },
  {
   "cell_type": "code",
   "execution_count": 10,
   "metadata": {},
   "outputs": [
    {
     "data": {
      "text/plain": [
       "4447.803837054326"
      ]
     },
     "execution_count": 10,
     "metadata": {},
     "output_type": "execute_result"
    }
   ],
   "source": [
    "cost_function(X, y, theta)"
   ]
  },
  {
   "cell_type": "markdown",
   "metadata": {},
   "source": [
    "# 4 - Gradient & Descente de Gradient"
   ]
  },
  {
   "cell_type": "code",
   "execution_count": 11,
   "metadata": {},
   "outputs": [],
   "source": [
    "def grad(X, y, theta):\n",
    "    m = len(y)\n",
    "    return 1/m * X.T.dot(model(X, theta) - y)"
   ]
  },
  {
   "cell_type": "code",
   "execution_count": 12,
   "metadata": {},
   "outputs": [],
   "source": [
    "def gradient_descente(X, y, theta, learning_rate, n_iterations):\n",
    "    \n",
    "    for i in range(0, n_iterations):\n",
    "        theta = theta - learning_rate * grad(X, y, theta)\n",
    "    return theta"
   ]
  },
  {
   "cell_type": "markdown",
   "metadata": {},
   "source": [
    "# 5 - Entrainement du modèle"
   ]
  },
  {
   "cell_type": "code",
   "execution_count": 13,
   "metadata": {},
   "outputs": [],
   "source": [
    "theta_final = gradient_descente(X, y, theta, learning_rate = 0.01, n_iterations = 1000)"
   ]
  },
  {
   "cell_type": "code",
   "execution_count": 14,
   "metadata": {},
   "outputs": [
    {
     "data": {
      "text/plain": [
       "array([[19.25173894],\n",
       "       [97.23592665],\n",
       "       [19.12491234]])"
      ]
     },
     "execution_count": 14,
     "metadata": {},
     "output_type": "execute_result"
    }
   ],
   "source": [
    "theta_final"
   ]
  },
  {
   "cell_type": "code",
   "execution_count": 15,
   "metadata": {},
   "outputs": [
    {
     "data": {
      "text/plain": [
       "<matplotlib.collections.PathCollection at 0x25f0fe4acd0>"
      ]
     },
     "execution_count": 15,
     "metadata": {},
     "output_type": "execute_result"
    },
    {
     "data": {
      "image/png": "[encoded data removed]",
      "text/plain": [
       "<Figure size 432x288 with 1 Axes>"
      ]
     },
     "metadata": {
      "needs_background": "light"
     },
     "output_type": "display_data"
    }
   ],
   "source": [
    "predictions = model(X, theta_final)\n",
    "plt.scatter(x[:,0], y)\n",
    "plt.scatter(x[:,0], predictions, c='r')\n",
    "\n",
    "# BILAN : la courbe obtenue est desormais satisfaisante"
   ]
  },
  {
   "cell_type": "markdown",
   "metadata": {},
   "source": [
    "# 6 - Comment tracer la minimisation avec la fonction cout\n",
    "# La machine apprend elle bien ?"
   ]
  },
  {
   "cell_type": "code",
   "execution_count": 16,
   "metadata": {},
   "outputs": [],
   "source": [
    "def gradient_descente(X, y, theta, learning_rate, n_iterations):\n",
    "    cost_history = np.zeros(n_iterations)\n",
    "    \n",
    "    for i in range(0, n_iterations):\n",
    "        theta = theta - learning_rate * grad(X, y, theta)\n",
    "        cost_history[i] = cost_function(X, y, theta)\n",
    "    return theta, cost_history"
   ]
  },
  {
   "cell_type": "code",
   "execution_count": 17,
   "metadata": {},
   "outputs": [],
   "source": [
    "theta_final, cost_history = gradient_descente(X, y, theta, learning_rate = 0.01, n_iterations = 1000)"
   ]
  },
  {
   "cell_type": "code",
   "execution_count": 18,
   "metadata": {},
   "outputs": [
    {
     "data": {
      "text/plain": [
       "[<matplotlib.lines.Line2D at 0x25f0ee46280>]"
      ]
     },
     "execution_count": 18,
     "metadata": {},
     "output_type": "execute_result"
    },
    {
     "data": {
      "image/png": "[encoded data removed]",
      "text/plain": [
       "<Figure size 432x288 with 1 Axes>"
      ]
     },
     "metadata": {
      "needs_background": "light"
     },
     "output_type": "display_data"
    }
   ],
   "source": [
    "#Affiche l'évolution de la minimisation en fonction du nb d'itérations\n",
    "plt.plot(range(1000), cost_history)"
   ]
  },
  {
   "cell_type": "markdown",
   "metadata": {},
   "source": [
    "# 7 - Coefficient de determination | afficher les performance du modèle"
   ]
  },
  {
   "cell_type": "code",
   "execution_count": 19,
   "metadata": {},
   "outputs": [],
   "source": [
    "def coef_determination(y, pred):\n",
    "    u = ((y - pred)**2).sum()\n",
    "    v = ((y - y.mean())**2).sum()\n",
    "    return 1 - u/v"
   ]
  },
  {
   "cell_type": "code",
   "execution_count": 20,
   "metadata": {},
   "outputs": [
    {
     "data": {
      "text/plain": [
       "0.9780975761687665"
      ]
     },
     "execution_count": 20,
     "metadata": {},
     "output_type": "execute_result"
    }
   ],
   "source": [
    "coef_determination(y, predictions)"
   ]
  },
  {
   "cell_type": "code",
   "execution_count": null,
   "metadata": {},
   "outputs": [],
   "source": []
  },
  {
   "cell_type": "code",
   "execution_count": null,
   "metadata": {},
   "outputs": [],
   "source": []
  },
  {
   "cell_type": "code",
   "execution_count": null,
   "metadata": {},
   "outputs": [],
   "source": []
  }
 ],
 "metadata": {
  "kernelspec": {
   "display_name": "Python 3",
   "language": "python",
   "name": "python3"
  },
  "language_info": {
   "codemirror_mode": {
    "name": "ipython",
    "version": 3
   },
   "file_extension": ".py",
   "mimetype": "text/x-python",
   "name": "python",
   "nbconvert_exporter": "python",
   "pygments_lexer": "ipython3",
   "version": "3.8.5"
  }
 },
 "nbformat": 4,
 "nbformat_minor": 4
}
